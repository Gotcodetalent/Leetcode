{
  "cells": [
    {
      "cell_type": "markdown",
      "metadata": {
        "id": "view-in-github",
        "colab_type": "text"
      },
      "source": [
        "<a href=\"https://colab.research.google.com/github/WCCCYCC/Leetcode/blob/main/count.ipynb\" target=\"_parent\"><img src=\"https://colab.research.google.com/assets/colab-badge.svg\" alt=\"Open In Colab\"/></a>"
      ]
    },
    {
      "cell_type": "code",
      "source": [
        "from google.colab import drive\n",
        "drive.mount('/content/drive')"
      ],
      "metadata": {
        "id": "HihvQs1MX0lp"
      },
      "execution_count": null,
      "outputs": []
    },
    {
      "cell_type": "code",
      "source": [
        "!pip install GitPython"
      ],
      "metadata": {
        "id": "LNoov3LnX1k3"
      },
      "execution_count": null,
      "outputs": []
    },
    {
      "cell_type": "code",
      "source": [
        "import os\n",
        "from git import Repo\n",
        "\n",
        "# 設置 GitHub 專案的 URL\n",
        "github_url = 'https://github.com/WCCCYCC/Leetcode.git'\n",
        "\n",
        "# Clone 專案到 Colab 中\n",
        "local_dir = '/content/dir'  # 指定複製專案的本地目錄\n",
        "Repo.clone_from(github_url, local_dir)"
      ],
      "metadata": {
        "id": "CVSfrukxX4mt"
      },
      "execution_count": null,
      "outputs": []
    },
    {
      "cell_type": "code",
      "source": [
        "import os\n",
        "def count_cpp_files(directory='.'):\n",
        "    cpp_count = 0\n",
        "\n",
        "    for root, dirs, files in os.walk(directory):\n",
        "        for file in files:\n",
        "            if file.endswith('.cpp'):\n",
        "                cpp_count += 1\n",
        "\n",
        "    return cpp_count\n",
        "\n",
        "\n",
        "current_dir = os.getcwd()\n",
        "\n",
        "cpp_count = count_cpp_files(current_dir)-1\n",
        "print(f\"扣除掉 Leetcode模板.cpp 後，當前目錄及子目錄中有 {cpp_count} 個.cpp文件。\")"
      ],
      "metadata": {
        "id": "W6HwtZscX7Hx"
      },
      "execution_count": null,
      "outputs": []
    }
  ],
  "metadata": {
    "colab": {
      "name": "Welcome To Colaboratory",
      "toc_visible": true,
      "provenance": [],
      "include_colab_link": true
    },
    "kernelspec": {
      "display_name": "Python 3",
      "name": "python3"
    }
  },
  "nbformat": 4,
  "nbformat_minor": 0
}